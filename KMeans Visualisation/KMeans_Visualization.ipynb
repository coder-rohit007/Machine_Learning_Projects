{
  "nbformat": 4,
  "nbformat_minor": 0,
  "metadata": {
    "colab": {
      "name": "KMeans Visualization",
      "provenance": []
    },
    "kernelspec": {
      "name": "python3",
      "display_name": "Python 3"
    }
  },
  "cells": [
    {
      "cell_type": "code",
      "metadata": {
        "id": "7rYeZTAGPwDW",
        "colab_type": "code",
        "colab": {}
      },
      "source": [
        "import pandas as pd\n",
        "import numpy as np\n",
        "import matplotlib.pyplot as plt\n",
        "\n",
        "nba = pd.read_csv(\"nba_2013.csv\")"
      ],
      "execution_count": 0,
      "outputs": []
    },
    {
      "cell_type": "code",
      "metadata": {
        "id": "YVzcWAZHP25y",
        "colab_type": "code",
        "colab": {}
      },
      "source": [
        "point_guards = nba[nba['pos']=='PG']"
      ],
      "execution_count": 0,
      "outputs": []
    },
    {
      "cell_type": "code",
      "metadata": {
        "id": "70uwOzKuP406",
        "colab_type": "code",
        "colab": {
          "base_uri": "https://localhost:8080/",
          "height": 326
        },
        "outputId": "5c0a41b8-4dff-41ce-b886-ed7aee0229b3"
      },
      "source": [
        "point_guards['ppg'] = point_guards['pts'] / point_guards['g']\n",
        "\n",
        "# Sanity check, make sure ppg = pts/g\n",
        "point_guards[['pts', 'g', 'ppg']].head(5)"
      ],
      "execution_count": 18,
      "outputs": [
        {
          "output_type": "stream",
          "text": [
            "/usr/local/lib/python3.6/dist-packages/ipykernel_launcher.py:1: SettingWithCopyWarning: \n",
            "A value is trying to be set on a copy of a slice from a DataFrame.\n",
            "Try using .loc[row_indexer,col_indexer] = value instead\n",
            "\n",
            "See the caveats in the documentation: https://pandas.pydata.org/pandas-docs/stable/user_guide/indexing.html#returning-a-view-versus-a-copy\n",
            "  \"\"\"Entry point for launching an IPython kernel.\n"
          ],
          "name": "stderr"
        },
        {
          "output_type": "execute_result",
          "data": {
            "text/html": [
              "<div>\n",
              "<style scoped>\n",
              "    .dataframe tbody tr th:only-of-type {\n",
              "        vertical-align: middle;\n",
              "    }\n",
              "\n",
              "    .dataframe tbody tr th {\n",
              "        vertical-align: top;\n",
              "    }\n",
              "\n",
              "    .dataframe thead th {\n",
              "        text-align: right;\n",
              "    }\n",
              "</style>\n",
              "<table border=\"1\" class=\"dataframe\">\n",
              "  <thead>\n",
              "    <tr style=\"text-align: right;\">\n",
              "      <th></th>\n",
              "      <th>pts</th>\n",
              "      <th>g</th>\n",
              "      <th>ppg</th>\n",
              "    </tr>\n",
              "  </thead>\n",
              "  <tbody>\n",
              "    <tr>\n",
              "      <th>24</th>\n",
              "      <td>930</td>\n",
              "      <td>71</td>\n",
              "      <td>13.098592</td>\n",
              "    </tr>\n",
              "    <tr>\n",
              "      <th>29</th>\n",
              "      <td>150</td>\n",
              "      <td>20</td>\n",
              "      <td>7.500000</td>\n",
              "    </tr>\n",
              "    <tr>\n",
              "      <th>30</th>\n",
              "      <td>660</td>\n",
              "      <td>79</td>\n",
              "      <td>8.354430</td>\n",
              "    </tr>\n",
              "    <tr>\n",
              "      <th>38</th>\n",
              "      <td>666</td>\n",
              "      <td>72</td>\n",
              "      <td>9.250000</td>\n",
              "    </tr>\n",
              "    <tr>\n",
              "      <th>50</th>\n",
              "      <td>378</td>\n",
              "      <td>55</td>\n",
              "      <td>6.872727</td>\n",
              "    </tr>\n",
              "  </tbody>\n",
              "</table>\n",
              "</div>"
            ],
            "text/plain": [
              "    pts   g        ppg\n",
              "24  930  71  13.098592\n",
              "29  150  20   7.500000\n",
              "30  660  79   8.354430\n",
              "38  666  72   9.250000\n",
              "50  378  55   6.872727"
            ]
          },
          "metadata": {
            "tags": []
          },
          "execution_count": 18
        }
      ]
    },
    {
      "cell_type": "code",
      "metadata": {
        "id": "2RlOGKCPP5qk",
        "colab_type": "code",
        "colab": {}
      },
      "source": [
        "point_guards = point_guards[point_guards['tov'] != 0]\n",
        "\n",
        "point_guards['atr'] = point_guards['ast'] / point_guards['tov']"
      ],
      "execution_count": 0,
      "outputs": []
    },
    {
      "cell_type": "code",
      "metadata": {
        "id": "DSeFeiU5RToY",
        "colab_type": "code",
        "colab": {}
      },
      "source": [
        "num_clusters = 5\n",
        "# Use numpy's random function to generate a list, length: num_clusters, of indices\n",
        "random_initial_points = np.random.choice(point_guards.index, size=num_clusters)\n",
        "# Use the random indices to create the centroids\n",
        "centroids = point_guards.loc[random_initial_points]"
      ],
      "execution_count": 0,
      "outputs": []
    },
    {
      "cell_type": "code",
      "metadata": {
        "id": "h5ybUx-zP5kb",
        "colab_type": "code",
        "colab": {}
      },
      "source": [
        "def centroids_to_dict(centroids):\n",
        "    dictionary = dict()\n",
        "    # iterating counter we use to generate a cluster_id\n",
        "    counter = 0\n",
        "\n",
        "    # iterate a pandas data frame row-wise using .iterrows()\n",
        "    for index, row in centroids.iterrows():\n",
        "        coordinates = [row['ppg'], row['atr']]\n",
        "        dictionary[counter] = coordinates\n",
        "        counter += 1\n",
        "\n",
        "    return dictionary\n",
        "\n",
        "centroids_dict = centroids_to_dict(centroids)"
      ],
      "execution_count": 0,
      "outputs": []
    },
    {
      "cell_type": "code",
      "metadata": {
        "id": "LoO9rNixP5fl",
        "colab_type": "code",
        "colab": {
          "base_uri": "https://localhost:8080/",
          "height": 34
        },
        "outputId": "798f6d9d-0aed-4921-8c42-bfa9c7f385ca"
      },
      "source": [
        "import math\n",
        "\n",
        "def calculate_distance(centroid, player_values):\n",
        "    root_distance = 0\n",
        "    \n",
        "    for x in range(0, len(centroid)):\n",
        "        difference = centroid[x] - player_values[x]\n",
        "        squared_difference = difference**2\n",
        "        root_distance += squared_difference\n",
        "\n",
        "    euclid_distance = math.sqrt(root_distance)\n",
        "    return euclid_distance\n",
        "\n",
        "q = [5, 2]\n",
        "p = [3,1]\n",
        "\n",
        "# Sqrt(5) = ~2.24\n",
        "print(calculate_distance(q, p))"
      ],
      "execution_count": 22,
      "outputs": [
        {
          "output_type": "stream",
          "text": [
            "2.23606797749979\n"
          ],
          "name": "stdout"
        }
      ]
    },
    {
      "cell_type": "code",
      "metadata": {
        "id": "BrqBdzJoQFMD",
        "colab_type": "code",
        "colab": {}
      },
      "source": [
        "def assign_to_cluster(row):\n",
        "    lowest_distance = -1\n",
        "    closest_cluster = -1\n",
        "    for cluster_id, centroid in centroids_dict.items():\n",
        "        df_row = [row['ppg'], row['atr']]\n",
        "        euclidean_distance = calculate_distance(centroid, df_row)\n",
        "        \n",
        "        if lowest_distance == -1:\n",
        "            lowest_distance = euclidean_distance\n",
        "            closest_cluster = cluster_id \n",
        "        elif euclidean_distance < lowest_distance:\n",
        "            lowest_distance = euclidean_distance\n",
        "            closest_cluster = cluster_id\n",
        "    return closest_cluster\n",
        "\n",
        "point_guards['cluster'] = point_guards.apply(lambda row: assign_to_cluster(row), axis=1)"
      ],
      "execution_count": 0,
      "outputs": []
    },
    {
      "cell_type": "code",
      "metadata": {
        "id": "1A0uGC53QFJ4",
        "colab_type": "code",
        "colab": {
          "base_uri": "https://localhost:8080/",
          "height": 282
        },
        "outputId": "ab2cca01-e6c5-4fe4-83e0-8f449675837c"
      },
      "source": [
        "def visualize_clusters(df, num_clusters):\n",
        "    colors = ['b', 'g', 'r', 'c', 'm', 'y', 'k']\n",
        "\n",
        "    for n in range(num_clusters):\n",
        "        clustered_df = df[df['cluster'] == n]\n",
        "        plt.scatter(clustered_df['ppg'], clustered_df['atr'], c=colors[n-1])\n",
        "        plt.xlabel('Points Per Game', fontsize=13)\n",
        "        plt.ylabel('Assist Turnover Ratio', fontsize=13)\n",
        "\n",
        "visualize_clusters(point_guards, 5)"
      ],
      "execution_count": 29,
      "outputs": [
        {
          "output_type": "display_data",
          "data": {
            "image/png": "[encoded data removed]",
            "text/plain": [
              "<Figure size 432x288 with 1 Axes>"
            ]
          },
          "metadata": {
            "tags": [],
            "needs_background": "light"
          }
        }
      ]
    },
    {
      "cell_type": "code",
      "metadata": {
        "id": "T6oLzxZxQFHV",
        "colab_type": "code",
        "colab": {}
      },
      "source": [
        "def recalculate_centroids(df):\n",
        "    new_centroids_dict = dict()\n",
        "    # 0..1...2...3...4\n",
        "    for cluster_id in range(0, num_clusters):\n",
        "        values_in_cluster = df[df['cluster'] == cluster_id]\n",
        "        # Calculate new centroid using mean of values in the cluster\n",
        "        new_centroid = [np.average(values_in_cluster['ppg']), np.average(values_in_cluster['atr'])]\n",
        "        new_centroids_dict[cluster_id] = new_centroid\n",
        "    return new_centroids_dict\n",
        "\n",
        "centroids_dict = recalculate_centroids(point_guards)"
      ],
      "execution_count": 0,
      "outputs": []
    },
    {
      "cell_type": "code",
      "metadata": {
        "id": "6tDxg-LJQFEK",
        "colab_type": "code",
        "colab": {
          "base_uri": "https://localhost:8080/",
          "height": 282
        },
        "outputId": "99f302f0-8b6a-481a-f39e-a0aace89c475"
      },
      "source": [
        "point_guards['cluster'] = point_guards.apply(lambda row: assign_to_cluster(row), axis=1)\n",
        "visualize_clusters(point_guards, num_clusters)"
      ],
      "execution_count": 31,
      "outputs": [
        {
          "output_type": "display_data",
          "data": {
            "image/png": "[encoded data removed]",
            "text/plain": [
              "<Figure size 432x288 with 1 Axes>"
            ]
          },
          "metadata": {
            "tags": [],
            "needs_background": "light"
          }
        }
      ]
    },
    {
      "cell_type": "code",
      "metadata": {
        "id": "TSGA-OyPP5aa",
        "colab_type": "code",
        "colab": {
          "base_uri": "https://localhost:8080/",
          "height": 282
        },
        "outputId": "e2dafb52-f078-4e6a-dc98-8261a440f37a"
      },
      "source": [
        "centroids_dict = recalculate_centroids(point_guards)\n",
        "point_guards['cluster'] = point_guards.apply(lambda row: assign_to_cluster(row), axis=1)\n",
        "visualize_clusters(point_guards, num_clusters)"
      ],
      "execution_count": 36,
      "outputs": [
        {
          "output_type": "display_data",
          "data": {
            "image/png": "[encoded data removed]",
            "text/plain": [
              "<Figure size 432x288 with 1 Axes>"
            ]
          },
          "metadata": {
            "tags": [],
            "needs_background": "light"
          }
        }
      ]
    },
    {
      "cell_type": "code",
      "metadata": {
        "id": "iTH5_LHmP5SB",
        "colab_type": "code",
        "colab": {
          "base_uri": "https://localhost:8080/",
          "height": 282
        },
        "outputId": "d5f8e5d2-7148-433e-b01f-a1610228d69f"
      },
      "source": [
        "from sklearn.cluster import KMeans\n",
        "\n",
        "kmeans = KMeans(n_clusters=num_clusters)\n",
        "kmeans.fit(point_guards[['ppg', 'atr']])\n",
        "point_guards['cluster'] = kmeans.labels_\n",
        "\n",
        "visualize_clusters(point_guards, num_clusters)"
      ],
      "execution_count": 37,
      "outputs": [
        {
          "output_type": "display_data",
          "data": {
            "image/png": "[encoded data removed]",
            "text/plain": [
              "<Figure size 432x288 with 1 Axes>"
            ]
          },
          "metadata": {
            "tags": [],
            "needs_background": "light"
          }
        }
      ]
    }
  ]
}