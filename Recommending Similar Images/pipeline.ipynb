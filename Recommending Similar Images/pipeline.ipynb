{
 "cells": [
  {
   "cell_type": "code",
   "execution_count": 81,
   "metadata": {},
   "outputs": [],
   "source": [
    "import cv2\n",
    "import numpy as np\n",
    "import os\n",
    "import matplotlib.pyplot as plt\n",
    "from scipy.spatial import distance\n",
    "from scipy.stats import pearsonr\n",
    "import operator\n",
    "%matplotlib inline"
   ]
  },
  {
   "cell_type": "code",
   "execution_count": 82,
   "metadata": {},
   "outputs": [],
   "source": [
    "IMG_SIZE = 70"
   ]
  },
  {
   "cell_type": "code",
   "execution_count": 83,
   "metadata": {},
   "outputs": [],
   "source": [
    "path = r\"C:\\Users\\PRATIK\\Desktop\\Cosine check\\check\"                   #path of image uploaded by the user\n",
    "img = cv2.imread(os.path.join(path,\"check.jpg\"), cv2.IMREAD_GRAYSCALE) #check.jpg is the filename uploaded by user\n",
    "new_array = cv2.resize(img, (IMG_SIZE, IMG_SIZE))                      #resizing the image\n",
    "length = np.prod(new_array.shape)\n",
    "new_array = new_array.reshape(length)                                  #flattening the image pixels"
   ]
  },
  {
   "cell_type": "code",
   "execution_count": 84,
   "metadata": {},
   "outputs": [],
   "source": [
    "path = r\"C:\\Users\\PRATIK\\Desktop\\Cosine check\\diamond\"               #path passed by the classifier\n",
    "diff = {}                                                            #dictionary for image and cosine data\n",
    "for img in os.listdir(path):\n",
    "    img1 = cv2.imread(os.path.join(path,img), cv2.IMREAD_GRAYSCALE)  #reading in one image at a time\n",
    "    new_array1 = cv2.resize(img1, (IMG_SIZE, IMG_SIZE))\n",
    "    length = np.prod(new_array1.shape)\n",
    "    new_array1 = new_array1.reshape(length)\n",
    "    diff[img] = abs(distance.cosine(new_array1, new_array))               #storing cosine distances in a dictionary\n",
    "    \n",
    "sorted_diff = dict(sorted(diff.items(), key=operator.itemgetter(1))) #sorting the dictionary to bring the optimal ones to the first\n",
    "final = list(sorted_diff.keys())\n",
    "final_cosine = final[:20]"
   ]
  },
  {
   "cell_type": "code",
   "execution_count": 85,
   "metadata": {},
   "outputs": [],
   "source": [
    "diff = {}\n",
    "for img in os.listdir(path):\n",
    "    img1 = cv2.imread(os.path.join(path,img), cv2.IMREAD_GRAYSCALE)\n",
    "    new_array1 = cv2.resize(img1, (IMG_SIZE, IMG_SIZE))\n",
    "    length = np.prod(new_array1.shape)\n",
    "    new_array1 = new_array1.reshape(length)\n",
    "    diff[img] = abs(distance.jaccard(new_array1, new_array))\n",
    "    \n",
    "sorted_diff = dict(sorted(diff.items(), key=operator.itemgetter(1)))\n",
    "final = list(sorted_diff.keys())\n",
    "final_jaccard = final[:20]"
   ]
  },
  {
   "cell_type": "code",
   "execution_count": 86,
   "metadata": {},
   "outputs": [],
   "source": [
    "diff = {}\n",
    "for img in os.listdir(path):\n",
    "    img1 = cv2.imread(os.path.join(path,img), cv2.IMREAD_GRAYSCALE)\n",
    "    new_array1 = cv2.resize(img1, (IMG_SIZE, IMG_SIZE))\n",
    "    length = np.prod(new_array1.shape)\n",
    "    new_array1 = new_array1.reshape(length)\n",
    "    diff[img] = abs(pearsonr(new_array1, new_array)[0])\n",
    "    \n",
    "sorted_diff = dict(sorted(diff.items(), key=operator.itemgetter(1)))\n",
    "final = list(sorted_diff.keys())\n",
    "final_pearson = final[-20:]"
   ]
  },
  {
   "cell_type": "code",
   "execution_count": 87,
   "metadata": {},
   "outputs": [
    {
     "name": "stdout",
     "output_type": "stream",
     "text": [
      "['8.jpg', '18.jpg', '23.jpg', '12.jpg', '20.jpg']\n"
     ]
    }
   ],
   "source": [
    "ultimate = []\n",
    "for i in final_cosine:\n",
    "    if i in final_jaccard:\n",
    "        if i in final_pearson[::-1]:\n",
    "            ultimate.append(i)\n",
    "        \n",
    "print(ultimate[1:6])"
   ]
  },
  {
   "cell_type": "code",
   "execution_count": null,
   "metadata": {},
   "outputs": [],
   "source": []
  }
 ],
 "metadata": {
  "kernelspec": {
   "display_name": "Python 3",
   "language": "python",
   "name": "python3"
  },
  "language_info": {
   "codemirror_mode": {
    "name": "ipython",
    "version": 3
   },
   "file_extension": ".py",
   "mimetype": "text/x-python",
   "name": "python",
   "nbconvert_exporter": "python",
   "pygments_lexer": "ipython3",
   "version": "3.7.1"
  }
 },
 "nbformat": 4,
 "nbformat_minor": 2
}
